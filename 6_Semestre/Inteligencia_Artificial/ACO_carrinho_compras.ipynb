{
  "nbformat": 4,
  "nbformat_minor": 0,
  "metadata": {
    "colab": {
      "name": "ACO_carrinho_compras.ipynb",
      "provenance": [],
      "collapsed_sections": [],
      "include_colab_link": true
    },
    "kernelspec": {
      "name": "python3",
      "display_name": "Python 3"
    }
  },
  "cells": [
    {
      "cell_type": "markdown",
      "metadata": {
        "id": "view-in-github",
        "colab_type": "text"
      },
      "source": [
        "<a href=\"https://colab.research.google.com/github/Haxr213/Universidade_Catolica_Santos/blob/master/6_Semestre/Inteligencia_Artificial/ACO_carrinho_compras.ipynb\" target=\"_parent\"><img src=\"https://colab.research.google.com/assets/colab-badge.svg\" alt=\"Open In Colab\"/></a>"
      ]
    },
    {
      "cell_type": "markdown",
      "metadata": {
        "id": "laRSzUxjUuNY"
      },
      "source": [
        "### **Importações**"
      ]
    },
    {
      "cell_type": "code",
      "metadata": {
        "id": "Ag181aERUa7i",
        "colab": {
          "base_uri": "https://localhost:8080/"
        },
        "outputId": "282e293b-b4ff-4b6b-efc9-bbf54fcdabaa"
      },
      "source": [
        "import numpy as np\n",
        "import pandas as pd\n",
        "import random as rd\n",
        "import math\n",
        "import matplotlib.pyplot as plt\n",
        "\n",
        "#Instalando o ACO-PANTS, deve ser executado pelo menos uma vez\n",
        "!pip install ACO-PANTS\n",
        "!pip install ipython-autotime\n",
        "%load_ext autotime\n",
        "\n",
        "import pants"
      ],
      "execution_count": 1,
      "outputs": [
        {
          "output_type": "stream",
          "text": [
            "Collecting ACO-PANTS\n",
            "  Downloading https://files.pythonhosted.org/packages/91/67/e62d59d6b47ed6809d1212ec42bee8137e755f538784105bd5d8d2346ab6/ACO-Pants-0.5.2.tar.gz\n",
            "Building wheels for collected packages: ACO-PANTS\n",
            "  Building wheel for ACO-PANTS (setup.py) ... \u001b[?25l\u001b[?25hdone\n",
            "  Created wheel for ACO-PANTS: filename=ACO_Pants-0.5.2-cp36-none-any.whl size=18854 sha256=b31ef99e11165fc71741198cd5d9663d5c987ca69e17ee198e7a291f52399508\n",
            "  Stored in directory: /root/.cache/pip/wheels/96/54/43/24aef81d408a74657e0cc72e811dd69b4a8f1d20c3ae758129\n",
            "Successfully built ACO-PANTS\n",
            "Installing collected packages: ACO-PANTS\n",
            "Successfully installed ACO-PANTS-0.5.2\n",
            "Collecting ipython-autotime\n",
            "  Downloading https://files.pythonhosted.org/packages/3f/58/a4a65efcce5c81a67b6893ade862736de355a3a718af5533d30c991831ce/ipython_autotime-0.2.0-py2.py3-none-any.whl\n",
            "Requirement already satisfied: ipython in /usr/local/lib/python3.6/dist-packages (from ipython-autotime) (5.5.0)\n",
            "Requirement already satisfied: simplegeneric>0.8 in /usr/local/lib/python3.6/dist-packages (from ipython->ipython-autotime) (0.8.1)\n",
            "Requirement already satisfied: prompt-toolkit<2.0.0,>=1.0.4 in /usr/local/lib/python3.6/dist-packages (from ipython->ipython-autotime) (1.0.18)\n",
            "Requirement already satisfied: setuptools>=18.5 in /usr/local/lib/python3.6/dist-packages (from ipython->ipython-autotime) (50.3.2)\n",
            "Requirement already satisfied: decorator in /usr/local/lib/python3.6/dist-packages (from ipython->ipython-autotime) (4.4.2)\n",
            "Requirement already satisfied: pickleshare in /usr/local/lib/python3.6/dist-packages (from ipython->ipython-autotime) (0.7.5)\n",
            "Requirement already satisfied: pygments in /usr/local/lib/python3.6/dist-packages (from ipython->ipython-autotime) (2.6.1)\n",
            "Requirement already satisfied: pexpect; sys_platform != \"win32\" in /usr/local/lib/python3.6/dist-packages (from ipython->ipython-autotime) (4.8.0)\n",
            "Requirement already satisfied: traitlets>=4.2 in /usr/local/lib/python3.6/dist-packages (from ipython->ipython-autotime) (4.3.3)\n",
            "Requirement already satisfied: six>=1.9.0 in /usr/local/lib/python3.6/dist-packages (from prompt-toolkit<2.0.0,>=1.0.4->ipython->ipython-autotime) (1.15.0)\n",
            "Requirement already satisfied: wcwidth in /usr/local/lib/python3.6/dist-packages (from prompt-toolkit<2.0.0,>=1.0.4->ipython->ipython-autotime) (0.2.5)\n",
            "Requirement already satisfied: ptyprocess>=0.5 in /usr/local/lib/python3.6/dist-packages (from pexpect; sys_platform != \"win32\"->ipython->ipython-autotime) (0.6.0)\n",
            "Requirement already satisfied: ipython-genutils in /usr/local/lib/python3.6/dist-packages (from traitlets>=4.2->ipython->ipython-autotime) (0.2.0)\n",
            "Installing collected packages: ipython-autotime\n",
            "Successfully installed ipython-autotime-0.2.0\n",
            "time: 3.43 ms\n"
          ],
          "name": "stdout"
        }
      ]
    },
    {
      "cell_type": "markdown",
      "metadata": {
        "id": "V8VQ2hHpU8na"
      },
      "source": [
        "### **Leitura da base de dados (arquivo CSV)**"
      ]
    },
    {
      "cell_type": "code",
      "metadata": {
        "id": "gLO2kfFEVEWR",
        "colab": {
          "base_uri": "https://localhost:8080/",
          "height": 221
        },
        "outputId": "68faf8a2-ebe8-4469-c4bd-66e4e7b5de78"
      },
      "source": [
        "url = \"https://raw.githubusercontent.com/luisdurante/IA-II-algoritmo-genetico-carrinho-de-compras/master/amostra.csv\"\n",
        "df = pd.read_csv(\"https://raw.githubusercontent.com/luisdurante/IA-II-algoritmo-genetico-carrinho-de-compras/master/amostra.csv\", sep=';')\n",
        "df.head()"
      ],
      "execution_count": 2,
      "outputs": [
        {
          "output_type": "execute_result",
          "data": {
            "text/html": [
              "<div>\n",
              "<style scoped>\n",
              "    .dataframe tbody tr th:only-of-type {\n",
              "        vertical-align: middle;\n",
              "    }\n",
              "\n",
              "    .dataframe tbody tr th {\n",
              "        vertical-align: top;\n",
              "    }\n",
              "\n",
              "    .dataframe thead th {\n",
              "        text-align: right;\n",
              "    }\n",
              "</style>\n",
              "<table border=\"1\" class=\"dataframe\">\n",
              "  <thead>\n",
              "    <tr style=\"text-align: right;\">\n",
              "      <th></th>\n",
              "      <th>produto</th>\n",
              "      <th>valor</th>\n",
              "      <th>prioridade</th>\n",
              "      <th>categoria</th>\n",
              "      <th>valor nutritivo</th>\n",
              "    </tr>\n",
              "  </thead>\n",
              "  <tbody>\n",
              "    <tr>\n",
              "      <th>0</th>\n",
              "      <td>água</td>\n",
              "      <td>R$ 1,99</td>\n",
              "      <td>5</td>\n",
              "      <td>bebidas</td>\n",
              "      <td>5</td>\n",
              "    </tr>\n",
              "    <tr>\n",
              "      <th>1</th>\n",
              "      <td>cerveja</td>\n",
              "      <td>R$ 3,99</td>\n",
              "      <td>2</td>\n",
              "      <td>bebidas</td>\n",
              "      <td>1</td>\n",
              "    </tr>\n",
              "    <tr>\n",
              "      <th>2</th>\n",
              "      <td>refrigerante 2L</td>\n",
              "      <td>R$ 6,00</td>\n",
              "      <td>5</td>\n",
              "      <td>bebidas</td>\n",
              "      <td>1</td>\n",
              "    </tr>\n",
              "    <tr>\n",
              "      <th>3</th>\n",
              "      <td>vodka</td>\n",
              "      <td>R$ 30,00</td>\n",
              "      <td>1</td>\n",
              "      <td>bebidas</td>\n",
              "      <td>1</td>\n",
              "    </tr>\n",
              "    <tr>\n",
              "      <th>4</th>\n",
              "      <td>vinho</td>\n",
              "      <td>R$ 60,00</td>\n",
              "      <td>2</td>\n",
              "      <td>bebidas</td>\n",
              "      <td>1</td>\n",
              "    </tr>\n",
              "  </tbody>\n",
              "</table>\n",
              "</div>"
            ],
            "text/plain": [
              "           produto     valor  prioridade categoria  valor nutritivo\n",
              "0             água   R$ 1,99           5   bebidas                5\n",
              "1          cerveja   R$ 3,99           2   bebidas                1\n",
              "2  refrigerante 2L   R$ 6,00           5   bebidas                1\n",
              "3            vodka  R$ 30,00           1   bebidas                1\n",
              "4            vinho  R$ 60,00           2   bebidas                1"
            ]
          },
          "metadata": {
            "tags": []
          },
          "execution_count": 2
        },
        {
          "output_type": "stream",
          "text": [
            "time: 330 ms\n"
          ],
          "name": "stdout"
        }
      ]
    },
    {
      "cell_type": "code",
      "metadata": {
        "id": "Qb3pVicpVgRU",
        "colab": {
          "base_uri": "https://localhost:8080/",
          "height": 221
        },
        "outputId": "323d9dbc-4fae-4c7b-f57c-86d347178ab7"
      },
      "source": [
        "df.valor = df.valor.apply(lambda x: float(x.replace(',','.')[2:]))\n",
        "df['valor nutritivo'] = df['valor nutritivo'].apply(lambda x: float(x))\n",
        "df.valor.sum()\n",
        "df.head()\n"
      ],
      "execution_count": 3,
      "outputs": [
        {
          "output_type": "execute_result",
          "data": {
            "text/html": [
              "<div>\n",
              "<style scoped>\n",
              "    .dataframe tbody tr th:only-of-type {\n",
              "        vertical-align: middle;\n",
              "    }\n",
              "\n",
              "    .dataframe tbody tr th {\n",
              "        vertical-align: top;\n",
              "    }\n",
              "\n",
              "    .dataframe thead th {\n",
              "        text-align: right;\n",
              "    }\n",
              "</style>\n",
              "<table border=\"1\" class=\"dataframe\">\n",
              "  <thead>\n",
              "    <tr style=\"text-align: right;\">\n",
              "      <th></th>\n",
              "      <th>produto</th>\n",
              "      <th>valor</th>\n",
              "      <th>prioridade</th>\n",
              "      <th>categoria</th>\n",
              "      <th>valor nutritivo</th>\n",
              "    </tr>\n",
              "  </thead>\n",
              "  <tbody>\n",
              "    <tr>\n",
              "      <th>0</th>\n",
              "      <td>água</td>\n",
              "      <td>1.99</td>\n",
              "      <td>5</td>\n",
              "      <td>bebidas</td>\n",
              "      <td>5.0</td>\n",
              "    </tr>\n",
              "    <tr>\n",
              "      <th>1</th>\n",
              "      <td>cerveja</td>\n",
              "      <td>3.99</td>\n",
              "      <td>2</td>\n",
              "      <td>bebidas</td>\n",
              "      <td>1.0</td>\n",
              "    </tr>\n",
              "    <tr>\n",
              "      <th>2</th>\n",
              "      <td>refrigerante 2L</td>\n",
              "      <td>6.00</td>\n",
              "      <td>5</td>\n",
              "      <td>bebidas</td>\n",
              "      <td>1.0</td>\n",
              "    </tr>\n",
              "    <tr>\n",
              "      <th>3</th>\n",
              "      <td>vodka</td>\n",
              "      <td>30.00</td>\n",
              "      <td>1</td>\n",
              "      <td>bebidas</td>\n",
              "      <td>1.0</td>\n",
              "    </tr>\n",
              "    <tr>\n",
              "      <th>4</th>\n",
              "      <td>vinho</td>\n",
              "      <td>60.00</td>\n",
              "      <td>2</td>\n",
              "      <td>bebidas</td>\n",
              "      <td>1.0</td>\n",
              "    </tr>\n",
              "  </tbody>\n",
              "</table>\n",
              "</div>"
            ],
            "text/plain": [
              "           produto  valor  prioridade categoria  valor nutritivo\n",
              "0             água   1.99           5   bebidas              5.0\n",
              "1          cerveja   3.99           2   bebidas              1.0\n",
              "2  refrigerante 2L   6.00           5   bebidas              1.0\n",
              "3            vodka  30.00           1   bebidas              1.0\n",
              "4            vinho  60.00           2   bebidas              1.0"
            ]
          },
          "metadata": {
            "tags": []
          },
          "execution_count": 3
        },
        {
          "output_type": "stream",
          "text": [
            "time: 23.1 ms\n"
          ],
          "name": "stdout"
        }
      ]
    },
    {
      "cell_type": "markdown",
      "metadata": {
        "id": "-FfplHhfczwB"
      },
      "source": [
        "### **Elaboração do Pontos**"
      ]
    },
    {
      "cell_type": "code",
      "metadata": {
        "id": "3xAgExLm68ta",
        "colab": {
          "base_uri": "https://localhost:8080/",
          "height": 221
        },
        "outputId": "83b48c97-6649-4367-a798-7773b3b45114"
      },
      "source": [
        "df.drop(columns=['produto', 'prioridade', 'categoria'], axis='1', inplace=True)\n",
        "df.head()\n",
        "\n",
        "\n"
      ],
      "execution_count": 4,
      "outputs": [
        {
          "output_type": "execute_result",
          "data": {
            "text/html": [
              "<div>\n",
              "<style scoped>\n",
              "    .dataframe tbody tr th:only-of-type {\n",
              "        vertical-align: middle;\n",
              "    }\n",
              "\n",
              "    .dataframe tbody tr th {\n",
              "        vertical-align: top;\n",
              "    }\n",
              "\n",
              "    .dataframe thead th {\n",
              "        text-align: right;\n",
              "    }\n",
              "</style>\n",
              "<table border=\"1\" class=\"dataframe\">\n",
              "  <thead>\n",
              "    <tr style=\"text-align: right;\">\n",
              "      <th></th>\n",
              "      <th>valor</th>\n",
              "      <th>valor nutritivo</th>\n",
              "    </tr>\n",
              "  </thead>\n",
              "  <tbody>\n",
              "    <tr>\n",
              "      <th>0</th>\n",
              "      <td>1.99</td>\n",
              "      <td>5.0</td>\n",
              "    </tr>\n",
              "    <tr>\n",
              "      <th>1</th>\n",
              "      <td>3.99</td>\n",
              "      <td>1.0</td>\n",
              "    </tr>\n",
              "    <tr>\n",
              "      <th>2</th>\n",
              "      <td>6.00</td>\n",
              "      <td>1.0</td>\n",
              "    </tr>\n",
              "    <tr>\n",
              "      <th>3</th>\n",
              "      <td>30.00</td>\n",
              "      <td>1.0</td>\n",
              "    </tr>\n",
              "    <tr>\n",
              "      <th>4</th>\n",
              "      <td>60.00</td>\n",
              "      <td>1.0</td>\n",
              "    </tr>\n",
              "  </tbody>\n",
              "</table>\n",
              "</div>"
            ],
            "text/plain": [
              "   valor  valor nutritivo\n",
              "0   1.99              5.0\n",
              "1   3.99              1.0\n",
              "2   6.00              1.0\n",
              "3  30.00              1.0\n",
              "4  60.00              1.0"
            ]
          },
          "metadata": {
            "tags": []
          },
          "execution_count": 4
        },
        {
          "output_type": "stream",
          "text": [
            "time: 17.1 ms\n"
          ],
          "name": "stdout"
        }
      ]
    },
    {
      "cell_type": "code",
      "metadata": {
        "id": "NsICdYIDdA0e",
        "colab": {
          "base_uri": "https://localhost:8080/"
        },
        "outputId": "9c33b1b6-c54f-4422-d9f4-782528bb07bb"
      },
      "source": [
        "\n",
        "nodes = []\n",
        "records = df.to_records(index=False)\n",
        "nodes = list(records)\n",
        "print(nodes)\n"
      ],
      "execution_count": 5,
      "outputs": [
        {
          "output_type": "stream",
          "text": [
            "[(1.99, 5.), (3.99, 1.), (6., 1.), (30., 1.), (60., 1.), (48., 4.), (25., 5.), (35., 3.), (35.48, 4.), (30.68, 3.), (15., 2.), (3.5, 5.), (18., 5.), (18.13, 3.), (6., 3.), (5., 4.), (5.98, 3.), (5.09, 4.), (6.09, 4.), (7., 5.), (8., 3.), (5.24, 3.), (3., 4.), (6.15, 5.), (8.45, 5.), (7.07, 5.), (6.11, 5.), (8.32, 5.), (5.37, 2.), (33., 1.), (7.18, 1.), (3.17, 3.), (2., 2.), (14., 2.), (17., 4.), (8.15, 4.), (10., 4.), (8.3, 3.), (6.5, 3.)]\n",
            "time: 12.8 ms\n"
          ],
          "name": "stdout"
        }
      ]
    },
    {
      "cell_type": "markdown",
      "metadata": {
        "id": "HGrbnsTZmDQ-"
      },
      "source": [
        "### **Função de Transição**"
      ]
    },
    {
      "cell_type": "code",
      "metadata": {
        "id": "Dn-COUPN30d_",
        "colab": {
          "base_uri": "https://localhost:8080/"
        },
        "outputId": "aa182263-cc1e-4a2a-a3a3-1b5295427c1d"
      },
      "source": [
        "def nota(a, b):\n",
        "    #Baseado em valor nutritivo\n",
        "    return math.sqrt(pow((a[1]*5)/a[0], 2) + pow((b[1]*5)/b[0], 2))\n",
        "  \n",
        "    \n",
        "    "
      ],
      "execution_count": 6,
      "outputs": [
        {
          "output_type": "stream",
          "text": [
            "time: 2.5 ms\n"
          ],
          "name": "stdout"
        }
      ]
    },
    {
      "cell_type": "markdown",
      "metadata": {
        "id": "BtSinzPhaTBI"
      },
      "source": [
        "### **Algoritmo para Melhor Resultado**"
      ]
    },
    {
      "cell_type": "code",
      "metadata": {
        "id": "wkbvF9gMaRG1",
        "colab": {
          "base_uri": "https://localhost:8080/"
        },
        "outputId": "90370b78-dc58-4340-d948-ed4df36558a1"
      },
      "source": [
        "#Orçamento do cliente\n",
        "precoLimite = 100\n",
        "\n",
        "#Criação do mundo para as formigas\n",
        "world = pants.World(nodes, nota)\n",
        "\n",
        "#Construção do solver\n",
        "solver = pants.Solver()\n",
        "\n",
        "#Carrinho com a melhor solução\n",
        "carrinho = []\n",
        "\n",
        "#Variáveis de avaliação da solução\n",
        "fatorben = 0.0\n",
        "preco = 0.0\n",
        "valor = 0.0\n",
        "valornut = 0\n",
        "benMinimo = 1.5\n",
        "\n",
        "#Variáveis delimitadoras\n",
        "iter = 10\n",
        "i = 0\n",
        "j = 0\n",
        "#Utilizado junto ao beneficio minimo, garante que a solução atenda o custo \n",
        "#benefício mínimo esperado\n",
        "halt = 1"
      ],
      "execution_count": 7,
      "outputs": [
        {
          "output_type": "stream",
          "text": [
            "time: 35.6 ms\n"
          ],
          "name": "stdout"
        }
      ]
    },
    {
      "cell_type": "markdown",
      "metadata": {
        "id": "AiHLZ6KGcl2u"
      },
      "source": [
        "### **Melhor Carrinho**"
      ]
    },
    {
      "cell_type": "code",
      "metadata": {
        "id": "k5WTqUMxcpjS",
        "colab": {
          "base_uri": "https://localhost:8080/"
        },
        "outputId": "3cee21ad-02d6-4a8b-f257-bfedbfc438b5"
      },
      "source": [
        "while (j < iter):\n",
        "  #Faz a otimização\n",
        "  solution = solver.solve(world)\n",
        "  lista = (solution.tour)\n",
        "  #Cria um carrinho válido (dentro do orçamento) particionando o vetor\n",
        "  for x in lista:\n",
        "    if ((valor + x[0]) <= precoLimite):\n",
        "      valor = valor + x[0]\n",
        "      valornut = valornut + x[1]\n",
        "      i = i + 1\n",
        "    else:\n",
        "      #Avalia o carrinho, substituindo o antigo caso encontre um melhor\n",
        "      if ((valornut*5/valor) > fatorben):\n",
        "        carrinho.clear\n",
        "        carrinho = (lista)[:i]\n",
        "        fatorben = valornut*5/valor\n",
        "        preco = valor\n",
        "      if (fatorben >= benMinimo):\n",
        "        halt = 0\n",
        "      if (halt != 1):\n",
        "        j = j + 1\n",
        "      i = 0\n",
        "      valor = 0.0\n",
        "      valornut = 0\n",
        "      break\n",
        "      \n",
        "\n",
        "print(\"De acordo com o orcamento de R$\", precoLimite,\"\\b. Sugerimos este carrinho:\", carrinho)\n",
        "print(\"Com o preco de: R$\", format(preco,\".2f\"))\n",
        "print(\"Custo beneficio: \", fatorben)"
      ],
      "execution_count": 8,
      "outputs": [
        {
          "output_type": "stream",
          "text": [
            "De acordo com o orcamento de R$ 100 \b. Sugerimos este carrinho: [(1.99, 5.), (3.5, 5.), (2., 2.), (3.17, 3.), (5., 4.), (8.45, 5.), (30.68, 3.)]\n",
            "Com o preco de: R$ 54.79\n",
            "Custo beneficio:  2.463953276145282\n",
            "time: 10.1 s\n"
          ],
          "name": "stdout"
        }
      ]
    }
  ]
}